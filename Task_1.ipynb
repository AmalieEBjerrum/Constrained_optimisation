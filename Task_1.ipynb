{
 "cells": [
  {
   "cell_type": "code",
   "execution_count": 1,
   "metadata": {},
   "outputs": [],
   "source": [
    "import numpy as np\n",
    "import time\n",
    "import psutil\n",
    "from scipy.linalg import lu_factor, lu_solve, ldl\n",
    "from scipy.sparse import csc_matrix, bmat\n",
    "from scipy.sparse.linalg import splu, spsolve\n",
    "import matplotlib.pyplot as plt"
   ]
  },
  {
   "cell_type": "markdown",
   "metadata": {},
   "source": [
    "# 1.3"
   ]
  },
  {
   "cell_type": "markdown",
   "metadata": {},
   "source": [
    "# Equality Solver"
   ]
  },
  {
   "cell_type": "code",
   "execution_count": 2,
   "metadata": {},
   "outputs": [],
   "source": [
    "# measure CPU usage\n",
    "def measure_cpu_usage(interval=1.0):\n",
    "    return psutil.cpu_percent(interval=interval)"
   ]
  },
  {
   "cell_type": "code",
   "execution_count": 3,
   "metadata": {},
   "outputs": [],
   "source": [
    "\n",
    "def EqualityQPSolverLUdense(H, g, A, b):\n",
    "    start_time = time.time()\n",
    "    start_cpu = time.process_time()\n",
    "\n",
    "    n = H.shape[0]\n",
    "    m = A.shape[1]\n",
    "    KKT = np.block([\n",
    "        [H, A],\n",
    "        [A.T, np.zeros((m, m))]\n",
    "    ])\n",
    "    rhs = np.concatenate([-g, b])\n",
    "    lu, piv = lu_factor(KKT)\n",
    "    sol = lu_solve((lu, piv), rhs)\n",
    "    x = sol[:n]\n",
    "    lam = sol[n:]\n",
    "\n",
    "    r1 = H @ x + g + A @ lam\n",
    "    r2 = A.T @ x - b\n",
    "    Bn = np.linalg.norm(np.concatenate([r1, r2]))\n",
    "\n",
    "    end_time = time.time()\n",
    "    end_cpu = time.process_time()\n",
    "\n",
    "    elapsed_time = end_time - start_time\n",
    "    cpu_usage = end_cpu - start_cpu\n",
    "\n",
    "    return x, lam, Bn, elapsed_time, cpu_usage\n",
    "\n",
    "def EqualityQPSolverLUsparse(H, g, A, b):\n",
    "    start_time = time.time()\n",
    "    start_cpu = time.process_time()\n",
    "    \n",
    "    n = H.shape[0]\n",
    "    m = A.shape[1]  # Correct: 2 in your case\n",
    "    Hs = csc_matrix(H)\n",
    "    As = csc_matrix(A.T)  # ✅ Transpose to make it m×n\n",
    "\n",
    "    KKT = bmat([\n",
    "        [Hs, -As.T],\n",
    "        [As, None]\n",
    "    ], format='csc')\n",
    "    \n",
    "    rhs = np.concatenate([-g, b])\n",
    "    lu = splu(KKT)\n",
    "    sol = lu.solve(rhs)\n",
    "    x = sol[:n]\n",
    "    lam = sol[n:]\n",
    "\n",
    "    r1 = H @ x + g + A @ lam\n",
    "    r2 = A.T @ x - b\n",
    "    Bn = np.linalg.norm(np.concatenate([r1, r2]))\n",
    "\n",
    "    end_time = time.time()\n",
    "    end_cpu = time.process_time()\n",
    "    \n",
    "    elapsed_time = end_time - start_time\n",
    "    cpu_usage = end_cpu - start_cpu\n",
    "\n",
    "    return x, lam, Bn, elapsed_time, cpu_usage\n",
    "\n",
    "\n",
    "def EqualityQPSolverLDLdense(H, g, A, b):\n",
    "    start_time = time.time()\n",
    "    start_cpu = time.process_time()\n",
    "    \n",
    "    n = H.shape[0]\n",
    "    m = A.shape[1]  # FIX: number of constraints\n",
    "    KKT = np.block([\n",
    "        [H, A],\n",
    "        [A.T, np.zeros((m, m))]\n",
    "    ])\n",
    "    rhs = np.concatenate([-g, b])\n",
    "    \n",
    "    L, D, perm = ldl(KKT)  # L D Lᵀ = Pᵀ KKT P\n",
    "    P = np.eye(KKT.shape[0])[:, perm]  # permutation matrix\n",
    "\n",
    "    rhs_permuted = P.T @ rhs\n",
    "    y = np.linalg.solve(L, rhs_permuted)\n",
    "    z = np.linalg.solve(D, y)\n",
    "    w = np.linalg.solve(L.T, z)\n",
    "    sol = P @ w\n",
    "\n",
    "    \n",
    "    x = sol[:n]\n",
    "    lam = sol[n:]\n",
    "    \n",
    "    r1 = H @ x + g + A @ lam\n",
    "    r2 = A.T @ x - b\n",
    "    Bn = np.linalg.norm(np.concatenate([r1, r2]))\n",
    "    \n",
    "    end_time = time.time()\n",
    "    end_cpu = time.process_time()\n",
    "    \n",
    "    elapsed_time = end_time - start_time\n",
    "    cpu_usage = end_cpu - start_cpu\n",
    "    \n",
    "    return x, lam, Bn, elapsed_time, cpu_usage\n",
    "\n",
    "\n",
    "def EqualityQPSolverLDLsparse(H, g, A, b):\n",
    " #doesnt work\n",
    " return ('dosent work in python')\n",
    "\n",
    "def EqualityQPSolverRangeSpace(H, g, A, b):\n",
    "    start_time = time.time()\n",
    "    start_cpu = time.process_time()\n",
    "\n",
    "    # Ensure A is shape (n, m) where n = number of variables, m = number of constraints\n",
    "    if A.shape[0] != H.shape[0]:\n",
    "        A = A.T  # A should be (5, 2) for H (5, 5)\n",
    "\n",
    "    # Solve H^{-1} A^T once\n",
    "    H_inv_A_T = np.linalg.solve(H, A.T)  # shape: (5, 2)\n",
    "    S = A @ H_inv_A_T                   # shape: (2, 2)\n",
    "    rhs = b + A @ np.linalg.solve(H, g)\n",
    "    lam = np.linalg.solve(S, rhs)\n",
    "    x = -np.linalg.solve(H, g - A.T @ lam)\n",
    "\n",
    "    r1 = H @ x + g + A @ lam\n",
    "    r2 = A.T @ x - b\n",
    "    Bn = np.linalg.norm(np.concatenate([r1, r2]))\n",
    "\n",
    "    end_time = time.time()\n",
    "    end_cpu = time.process_time()\n",
    "\n",
    "    elapsed_time = end_time - start_time\n",
    "    cpu_time = end_cpu - start_cpu\n",
    "\n",
    "    return x, lam, Bn, elapsed_time, cpu_time\n",
    "\n",
    "\n",
    "def EqualityQPSolverNullSpace(H, g, A, b):\n",
    "    start_time = time.time()\n",
    "    start_cpu = time.process_time()\n",
    "\n",
    "    from scipy.linalg import null_space\n",
    "\n",
    "    # Ensure A is n×m (5×2) and A^T x = b\n",
    "    if A.shape[0] != H.shape[0]:\n",
    "        A = A.T\n",
    "\n",
    "    # Null space method\n",
    "    Z = null_space(A.T)  # Null space of A^T has dimension n - m\n",
    "\n",
    "    # Find feasible x0 such that A^T x0 = b\n",
    "    x0 = np.linalg.lstsq(A.T, b, rcond=None)[0]\n",
    "\n",
    "    Hz = Z.T @ H @ Z\n",
    "    gz = Z.T @ (H @ x0 + g)\n",
    "    p = -np.linalg.solve(Hz, gz)\n",
    "    x = x0 + Z @ p\n",
    "\n",
    "    lam = np.linalg.lstsq(A, H @ x + g, rcond=None)[0]\n",
    "\n",
    "    r1 = H @ x + g + A @ lam\n",
    "    r2 = A.T @ x - b\n",
    "    Bn = np.linalg.norm(np.concatenate([r1, r2]))\n",
    "\n",
    "    end_time = time.time()\n",
    "    end_cpu = time.process_time()\n",
    "\n",
    "    elapsed_time = end_time - start_time\n",
    "    cpu_usage = end_cpu - start_cpu\n",
    "\n",
    "    return x, lam, Bn, elapsed_time, cpu_usage\n",
    "\n",
    "\n",
    "def EqualityQPSolver(H, g, A, b, solver):\n",
    "    solvers = {\n",
    "        \"LUdense\": EqualityQPSolverLUdense,\n",
    "        \"LUsparse\": EqualityQPSolverLUsparse,\n",
    "        \"LDLdense\": EqualityQPSolverLDLdense,\n",
    "        \"LDLsparse\": EqualityQPSolverLDLsparse,\n",
    "        \"RangeSpace\": EqualityQPSolverRangeSpace,\n",
    "        \"NullSpace\": EqualityQPSolverNullSpace\n",
    "    }\n",
    "    if solver not in solvers:\n",
    "        raise ValueError(f\"Unknown solver: {solver}\")\n",
    "    return solvers[solver](H, g, A, b)\n"
   ]
  },
  {
   "cell_type": "code",
   "execution_count": 4,
   "metadata": {},
   "outputs": [],
   "source": [
    "def generate_test_problem(n, beta, alpha):\n",
    "    # Generate random matrix M with 15% nonzero elements\n",
    "    M = np.random.randn(n, n)\n",
    "    mask_M = np.random.rand(n, n) > 0.85\n",
    "    M[mask_M] = 0\n",
    "    \n",
    "    # Generate H = M M' + alpha I\n",
    "    H = M @ M.T + alpha * np.eye(n)\n",
    "    \n",
    "    # Generate random vector g\n",
    "    g = np.random.randn(n)\n",
    "    \n",
    "    # Generate matrix A with 15% nonzero elements\n",
    "    m = round(beta * n)\n",
    "    A = np.random.randn(m, n)\n",
    "    mask_A = np.random.rand(m, n) > 0.85\n",
    "    A[mask_A] = 0\n",
    "\n",
    "    # Transpose A so shape is (n × m), as expected by solver\n",
    "    A = A.T\n",
    "    \n",
    "    # Generate random vector b\n",
    "    b = np.random.randn(m)\n",
    "    \n",
    "    return H, g, A, b\n",
    "\n",
    "def compute_lagrangian(H, g, A, b, x, lam):\n",
    "    L = 0.5 * x.T @ H @ x + g.T @ x - np.dot(lam, (A.T @ x - b))\n",
    "    return L\n"
   ]
  },
  {
   "cell_type": "code",
   "execution_count": 14,
   "metadata": {},
   "outputs": [
    {
     "name": "stdout",
     "output_type": "stream",
     "text": [
      "x: [ 0.33880081 -0.22452428  0.4798613  -0.00212883  0.40799099]\n",
      "lam: [-2.29698186 -0.3260314   0.33005863 -2.06166892  4.41692342  1.29560468\n",
      "  6.81561176  4.99909933 -3.11165277 -2.06439077 -3.23336899 -0.69759253\n",
      " -1.64243306 -0.81114595 -0.73757292 -2.83236725 -0.78344305  3.7437483\n",
      "  1.94896547  2.98423593  0.33416375 -2.21001314  0.02136868  4.47505733\n",
      " -1.78144122  0.18917774 -3.18363112 -1.26939017 -5.27015915  1.55053069\n",
      " -2.02527489  0.17242609  1.81568433  2.04106741  4.14979919 -2.4153793\n",
      " -0.37000474 -2.15017626  0.3575979   7.36978965 -1.8257302  -4.39732959\n",
      " -2.58755354 -5.88520443 -2.76732951 -5.74483857  0.90946133 -0.50808127\n",
      " -1.99806742  1.01169251]\n",
      "A: [[ 0.28646832  0.          0.76146661 ... -0.98058695 -1.18936813\n",
      "   0.88159764]\n",
      " [-0.1339306   0.          0.         ... -1.36675387 -1.14000146\n",
      "   0.30531095]\n",
      " [ 0.07032156 -0.24193515  0.         ... -0.25269654  0.\n",
      "  -0.07049113]\n",
      " ...\n",
      " [ 0.85650113 -0.69638598 -0.73014593 ... -0.22742775 -0.16623236\n",
      "  -0.51151305]\n",
      " [-0.05301696 -1.12835974  0.         ... -0.35604609  0.03198312\n",
      "   0.62194947]\n",
      " [-1.0267587  -1.39918592  0.80368438 ...  0.74192335  0.\n",
      "  -0.49490372]]\n",
      "b: [-2.33101965 -0.11946934 -1.11521271 -1.93821829  0.99497664  0.04739962\n",
      "  2.24929656  1.53802481  0.92047944 -0.25842741 -0.40265073  1.55698051\n",
      " -0.83682358  0.94717779 -0.16523332 -0.78118355  0.32514117  1.04872902\n",
      "  1.28436934  1.08836479 -0.37586035 -1.04349821 -0.39694372  1.64978571\n",
      " -0.93587129  0.47201903 -0.08008513  0.76902348  0.09816773 -0.68227248\n",
      " -0.3327619   0.5729758  -0.20208702 -0.08358854  1.7475436  -0.47340617\n",
      " -0.15119387 -0.91380052  0.80489043  1.516196   -0.20031078 -2.45007844\n",
      "  0.06069469 -2.13011728 -0.22279325  0.450708   -1.43393479 -1.65330844\n",
      " -1.84993275  0.59268071]\n"
     ]
    }
   ],
   "source": [
    "# Parameters\n",
    "n = 100  # Size of x\n",
    "beta = 0.5  # Ratio for size of A\n",
    "alpha = 1.0 # Regularization parameter\n",
    "\n",
    "# Generate test problem\n",
    "np.random.seed(237)  # Set seed once, before generating data\n",
    "H, g, A, b = generate_test_problem(n, beta, alpha)\n",
    "\n",
    "# Print the variables, so it can be used in MatLab as well\n",
    "print(\"x:\", x)\n",
    "print(\"lam:\", lam)\n",
    "print(\"A:\", (A))\n",
    "print(\"b:\", b)"
   ]
  },
  {
   "cell_type": "code",
   "execution_count": null,
   "metadata": {},
   "outputs": [],
   "source": [
    "# x, lam, time1, cpu1 = EqualityQPSolver(H, g, A, b, 'LDLsparse')\n",
    "# L = compute_lagrangian(H, g, A, b, x, lam)\n",
    "# L, time1, cpu1 "
   ]
  },
  {
   "cell_type": "code",
   "execution_count": 10,
   "metadata": {},
   "outputs": [
    {
     "name": "stdout",
     "output_type": "stream",
     "text": [
      "This is the LU dense, L: 50.7140, time1: 0.0042, cpu: 0.0099\n"
     ]
    }
   ],
   "source": [
    "x, lam, Bn, time1, cpu1 = EqualityQPSolver(H, g, A, b, 'LUdense')\n",
    "L = compute_lagrangian(H, g, A, b, x, lam)\n",
    "print(f\"This is the LU dense, L: {L:.4f}, time1: {time1:.4f}, cpu: {cpu1:.4f}\")"
   ]
  },
  {
   "cell_type": "code",
   "execution_count": 7,
   "metadata": {},
   "outputs": [
    {
     "name": "stdout",
     "output_type": "stream",
     "text": [
      "This is the LU sparse, L: 50.7140, time1: 0.0126, cpu: 0.0110\n"
     ]
    }
   ],
   "source": [
    "x, lam, Bn, time1, cpu1 = EqualityQPSolver(H, g, A, b, 'LUsparse')\n",
    "L = compute_lagrangian(H, g, A, b, x, lam)\n",
    "print(f\"This is the LU sparse, L: {L:.4f}, time1: {time1:.4f}, cpu: {cpu1:.4f}\")"
   ]
  },
  {
   "cell_type": "code",
   "execution_count": 8,
   "metadata": {},
   "outputs": [
    {
     "name": "stdout",
     "output_type": "stream",
     "text": [
      "This is the LDLdense, L: 50.7140, time1: 0.0102, cpu: 0.0102\n"
     ]
    }
   ],
   "source": [
    "x, lam, Bn, time1, cpu1 = EqualityQPSolver(H, g, A, b, 'LDLdense')\n",
    "L = compute_lagrangian(H, g, A, b, x, lam)\n",
    "print(f\"This is the LDLdense, L: {L:.4f}, time1: {time1:.4f}, cpu: {cpu1:.4f}\")"
   ]
  },
  {
   "cell_type": "code",
   "execution_count": 9,
   "metadata": {},
   "outputs": [
    {
     "ename": "ValueError",
     "evalue": "solve: Input operand 1 has a mismatch in its core dimension 0, with gufunc signature (m,m),(m,n)->(m,n) (size 50 is different from 100)",
     "output_type": "error",
     "traceback": [
      "\u001b[0;31m---------------------------------------------------------------------------\u001b[0m",
      "\u001b[0;31mValueError\u001b[0m                                Traceback (most recent call last)",
      "Cell \u001b[0;32mIn[9], line 1\u001b[0m\n\u001b[0;32m----> 1\u001b[0m x, lam, Bn, time1, cpu1 \u001b[38;5;241m=\u001b[39m \u001b[43mEqualityQPSolver\u001b[49m\u001b[43m(\u001b[49m\u001b[43mH\u001b[49m\u001b[43m,\u001b[49m\u001b[43m \u001b[49m\u001b[43mg\u001b[49m\u001b[43m,\u001b[49m\u001b[43m \u001b[49m\u001b[43mA\u001b[49m\u001b[43m,\u001b[49m\u001b[43m \u001b[49m\u001b[43mb\u001b[49m\u001b[43m,\u001b[49m\u001b[43m \u001b[49m\u001b[38;5;124;43m'\u001b[39;49m\u001b[38;5;124;43mRangeSpace\u001b[39;49m\u001b[38;5;124;43m'\u001b[39;49m\u001b[43m)\u001b[49m\n\u001b[1;32m      2\u001b[0m L \u001b[38;5;241m=\u001b[39m compute_lagrangian(H, g, A, b, x, lam)\n\u001b[1;32m      3\u001b[0m \u001b[38;5;28mprint\u001b[39m(\u001b[38;5;124mf\u001b[39m\u001b[38;5;124m\"\u001b[39m\u001b[38;5;124mThis is the Range space, L: \u001b[39m\u001b[38;5;132;01m{\u001b[39;00mL\u001b[38;5;132;01m:\u001b[39;00m\u001b[38;5;124m.4f\u001b[39m\u001b[38;5;132;01m}\u001b[39;00m\u001b[38;5;124m, time1: \u001b[39m\u001b[38;5;132;01m{\u001b[39;00mtime1\u001b[38;5;132;01m:\u001b[39;00m\u001b[38;5;124m.4f\u001b[39m\u001b[38;5;132;01m}\u001b[39;00m\u001b[38;5;124m, cpu: \u001b[39m\u001b[38;5;132;01m{\u001b[39;00mcpu1\u001b[38;5;132;01m:\u001b[39;00m\u001b[38;5;124m.4f\u001b[39m\u001b[38;5;132;01m}\u001b[39;00m\u001b[38;5;124m\"\u001b[39m)\n",
      "Cell \u001b[0;32mIn[3], line 179\u001b[0m, in \u001b[0;36mEqualityQPSolver\u001b[0;34m(H, g, A, b, solver)\u001b[0m\n\u001b[1;32m    177\u001b[0m \u001b[38;5;28;01mif\u001b[39;00m solver \u001b[38;5;129;01mnot\u001b[39;00m \u001b[38;5;129;01min\u001b[39;00m solvers:\n\u001b[1;32m    178\u001b[0m     \u001b[38;5;28;01mraise\u001b[39;00m \u001b[38;5;167;01mValueError\u001b[39;00m(\u001b[38;5;124mf\u001b[39m\u001b[38;5;124m\"\u001b[39m\u001b[38;5;124mUnknown solver: \u001b[39m\u001b[38;5;132;01m{\u001b[39;00msolver\u001b[38;5;132;01m}\u001b[39;00m\u001b[38;5;124m\"\u001b[39m)\n\u001b[0;32m--> 179\u001b[0m \u001b[38;5;28;01mreturn\u001b[39;00m \u001b[43msolvers\u001b[49m\u001b[43m[\u001b[49m\u001b[43msolver\u001b[49m\u001b[43m]\u001b[49m\u001b[43m(\u001b[49m\u001b[43mH\u001b[49m\u001b[43m,\u001b[49m\u001b[43m \u001b[49m\u001b[43mg\u001b[49m\u001b[43m,\u001b[49m\u001b[43m \u001b[49m\u001b[43mA\u001b[49m\u001b[43m,\u001b[49m\u001b[43m \u001b[49m\u001b[43mb\u001b[49m\u001b[43m)\u001b[49m\n",
      "Cell \u001b[0;32mIn[3], line 113\u001b[0m, in \u001b[0;36mEqualityQPSolverRangeSpace\u001b[0;34m(H, g, A, b)\u001b[0m\n\u001b[1;32m    110\u001b[0m     A \u001b[38;5;241m=\u001b[39m A\u001b[38;5;241m.\u001b[39mT  \u001b[38;5;66;03m# A should be (5, 2) for H (5, 5)\u001b[39;00m\n\u001b[1;32m    112\u001b[0m \u001b[38;5;66;03m# Solve H^{-1} A^T once\u001b[39;00m\n\u001b[0;32m--> 113\u001b[0m H_inv_A_T \u001b[38;5;241m=\u001b[39m \u001b[43mnp\u001b[49m\u001b[38;5;241;43m.\u001b[39;49m\u001b[43mlinalg\u001b[49m\u001b[38;5;241;43m.\u001b[39;49m\u001b[43msolve\u001b[49m\u001b[43m(\u001b[49m\u001b[43mH\u001b[49m\u001b[43m,\u001b[49m\u001b[43m \u001b[49m\u001b[43mA\u001b[49m\u001b[38;5;241;43m.\u001b[39;49m\u001b[43mT\u001b[49m\u001b[43m)\u001b[49m  \u001b[38;5;66;03m# shape: (5, 2)\u001b[39;00m\n\u001b[1;32m    114\u001b[0m S \u001b[38;5;241m=\u001b[39m A \u001b[38;5;241m@\u001b[39m H_inv_A_T                   \u001b[38;5;66;03m# shape: (2, 2)\u001b[39;00m\n\u001b[1;32m    115\u001b[0m rhs \u001b[38;5;241m=\u001b[39m b \u001b[38;5;241m+\u001b[39m A \u001b[38;5;241m@\u001b[39m np\u001b[38;5;241m.\u001b[39mlinalg\u001b[38;5;241m.\u001b[39msolve(H, g)\n",
      "File \u001b[0;32m~/opt/anaconda3/envs/AI/lib/python3.10/site-packages/numpy/linalg/linalg.py:409\u001b[0m, in \u001b[0;36msolve\u001b[0;34m(a, b)\u001b[0m\n\u001b[1;32m    407\u001b[0m signature \u001b[38;5;241m=\u001b[39m \u001b[38;5;124m'\u001b[39m\u001b[38;5;124mDD->D\u001b[39m\u001b[38;5;124m'\u001b[39m \u001b[38;5;28;01mif\u001b[39;00m isComplexType(t) \u001b[38;5;28;01melse\u001b[39;00m \u001b[38;5;124m'\u001b[39m\u001b[38;5;124mdd->d\u001b[39m\u001b[38;5;124m'\u001b[39m\n\u001b[1;32m    408\u001b[0m extobj \u001b[38;5;241m=\u001b[39m get_linalg_error_extobj(_raise_linalgerror_singular)\n\u001b[0;32m--> 409\u001b[0m r \u001b[38;5;241m=\u001b[39m \u001b[43mgufunc\u001b[49m\u001b[43m(\u001b[49m\u001b[43ma\u001b[49m\u001b[43m,\u001b[49m\u001b[43m \u001b[49m\u001b[43mb\u001b[49m\u001b[43m,\u001b[49m\u001b[43m \u001b[49m\u001b[43msignature\u001b[49m\u001b[38;5;241;43m=\u001b[39;49m\u001b[43msignature\u001b[49m\u001b[43m,\u001b[49m\u001b[43m \u001b[49m\u001b[43mextobj\u001b[49m\u001b[38;5;241;43m=\u001b[39;49m\u001b[43mextobj\u001b[49m\u001b[43m)\u001b[49m\n\u001b[1;32m    411\u001b[0m \u001b[38;5;28;01mreturn\u001b[39;00m wrap(r\u001b[38;5;241m.\u001b[39mastype(result_t, copy\u001b[38;5;241m=\u001b[39m\u001b[38;5;28;01mFalse\u001b[39;00m))\n",
      "\u001b[0;31mValueError\u001b[0m: solve: Input operand 1 has a mismatch in its core dimension 0, with gufunc signature (m,m),(m,n)->(m,n) (size 50 is different from 100)"
     ]
    }
   ],
   "source": [
    "x, lam, Bn, time1, cpu1 = EqualityQPSolver(H, g, A, b, 'RangeSpace')\n",
    "L = compute_lagrangian(H, g, A, b, x, lam)\n",
    "print(f\"This is the Range space, L: {L:.4f}, time1: {time1:.4f}, cpu: {cpu1:.4f}\")"
   ]
  },
  {
   "cell_type": "code",
   "execution_count": 12,
   "metadata": {},
   "outputs": [
    {
     "name": "stdout",
     "output_type": "stream",
     "text": [
      "This is the NullSpace, L: 50.7140, time1: 0.0554, cpu: 0.0580\n"
     ]
    }
   ],
   "source": [
    "x, lam, Bn, time1, cpu1 = EqualityQPSolver(H, g, A, b, 'NullSpace')\n",
    "L = compute_lagrangian(H, g, A, b, x, lam)\n",
    "print(f\"This is the NullSpace, L: {L:.4f}, time1: {time1:.4f}, cpu: {cpu1:.4f}\")"
   ]
  },
  {
   "cell_type": "markdown",
   "metadata": {},
   "source": [
    "# 1.6"
   ]
  },
  {
   "cell_type": "code",
   "execution_count": 13,
   "metadata": {},
   "outputs": [
    {
     "data": {
      "image/png": "[encoded data removed]",
      "text/plain": [
       "<Figure size 1000x600 with 1 Axes>"
      ]
     },
     "metadata": {},
     "output_type": "display_data"
    }
   ],
   "source": [
    "# Problem data\n",
    "H = np.array([\n",
    "    [6.0000, 1.8600, 1.2400, 1.4800, -0.4600],\n",
    "    [1.8600, 4.0000, 0.4400, 1.1200, 0.5200],\n",
    "    [1.2400, 0.4400, 3.8000, 1.5600, -0.5400],\n",
    "    [1.4800, 1.1200, 1.5600, 7.2000, -1.1200],\n",
    "    [-0.4600, 0.5200, -0.5400, -1.1200, 7.8000]\n",
    "])\n",
    "g = np.array([-16.1000, -8.5000, -15.7000, -10.0200, -18.6800])\n",
    "A_base = np.array([\n",
    "    [16.1000, 1.0000],\n",
    "    [8.5000, 1.0000],\n",
    "    [15.7000, 1.0000],\n",
    "    [10.0200, 1.0000],\n",
    "    [18.6800, 1.0000]\n",
    "])\n",
    "\n",
    "# Sweep over b₁\n",
    "b1_values = np.linspace(8.5, 18.68, 100)\n",
    "\n",
    "x1_LUdense = []\n",
    "x1_LUsparse = []\n",
    "x1_LDLdense = []\n",
    "x1_NullSpace = []\n",
    "\n",
    "for b1 in b1_values:\n",
    "    b = np.array([b1, 1.0])\n",
    "    A = A_base.copy()  # Avoid mutation issues\n",
    "\n",
    "    x, _, _, _, _ = EqualityQPSolver(H, g, A, b, 'LUdense')\n",
    "    x1_LUdense.append(x[0])\n",
    "\n",
    "    x, _, _, _, _ = EqualityQPSolver(H, g, A, b, 'LUsparse')\n",
    "    x1_LUsparse.append(x[0])\n",
    "\n",
    "    x, _, _, _, _ = EqualityQPSolver(H, g, A, b, 'LDLdense')\n",
    "    x1_LDLdense.append(x[0])\n",
    "\n",
    "    x, _, _, _, _ = EqualityQPSolver(H, g, A, b, 'NullSpace')\n",
    "    x1_NullSpace.append(x[0])\n",
    "\n",
    "# Plot\n",
    "plt.figure(figsize=(10, 6))\n",
    "plt.plot(b1_values, x1_LUdense, label='LUdense', lw=2, color='blue', linestyle='-')\n",
    "plt.plot(b1_values, x1_LUsparse, label='LUsparse', lw=2, color='orange', linestyle='--')\n",
    "plt.plot(b1_values, x1_LUdense, label='LDLdense', lw=2, color='green', linestyle='-.')\n",
    "plt.plot(b1_values, x1_NullSpace, label='NullSpace', lw=2, color='red', linestyle=':')\n",
    "plt.plot(b1_values, x1_NullSpace, label='RangeSpace', lw=2, color='purple', linestyle='dotted')\n",
    "\n",
    "plt.xlabel(r'$b_1$', fontsize=14, fontweight='bold')\n",
    "plt.ylabel(r'$x_1$', fontsize=14, fontweight='bold')\n",
    "plt.title(r'Sensitivity of $x_1$ to $b_1$ across solvers', fontsize=14, fontweight='bold')\n",
    "plt.grid(True)\n",
    "plt.legend()\n",
    "plt.tight_layout()\n",
    "plt.show()\n"
   ]
  }
 ],
 "metadata": {
  "kernelspec": {
   "display_name": "AI",
   "language": "python",
   "name": "python3"
  },
  "language_info": {
   "codemirror_mode": {
    "name": "ipython",
    "version": 3
   },
   "file_extension": ".py",
   "mimetype": "text/x-python",
   "name": "python",
   "nbconvert_exporter": "python",
   "pygments_lexer": "ipython3",
   "version": "3.10.16"
  }
 },
 "nbformat": 4,
 "nbformat_minor": 2
}
