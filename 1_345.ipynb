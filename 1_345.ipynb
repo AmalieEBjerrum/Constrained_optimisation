{
 "cells": [
  {
   "cell_type": "code",
   "execution_count": 1,
   "id": "494f6ca6",
   "metadata": {},
   "outputs": [],
   "source": [
    "import numpy as np"
   ]
  },
  {
   "cell_type": "code",
   "execution_count": 2,
   "id": "3a0834ab",
   "metadata": {},
   "outputs": [],
   "source": [
    "def EqualityQPSolverLUdense(H, g, A, b):\n",
    "    n = H.shape[0]\n",
    "    m = A.shape[0]\n",
    "    KKT = np.block([\n",
    "        [H, -A.T],\n",
    "        [A, np.zeros((m, m))]\n",
    "    ])\n",
    "    rhs = np.concatenate([-g, b])\n",
    "    lu, piv = lu_factor(KKT)\n",
    "    sol = lu_solve((lu, piv), rhs)\n",
    "    x = sol[:n]\n",
    "    lam = sol[n:]\n",
    "    return x, lam"
   ]
  },
  {
   "cell_type": "code",
   "execution_count": 3,
   "id": "fc089359",
   "metadata": {},
   "outputs": [],
   "source": [
    "def EqualityQPSolverLUsparse(H, g, A, b):\n",
    "    n = H.shape[0]\n",
    "    m = A.shape[0]\n",
    "    Hs = csc_matrix(H)\n",
    "    As = csc_matrix(A)\n",
    "    KKT = csc_matrix(np.block([\n",
    "        [Hs.toarray(), -As.T.toarray()],\n",
    "        [As.toarray(), np.zeros((m, m))]\n",
    "    ]))\n",
    "    rhs = np.concatenate([-g, b])\n",
    "    lu = splu(KKT)\n",
    "    sol = lu.solve(rhs)\n",
    "    x = sol[:n]\n",
    "    lam = sol[n:]\n",
    "    return x, lam"
   ]
  },
  {
   "cell_type": "code",
   "execution_count": 5,
   "id": "04949404",
   "metadata": {},
   "outputs": [],
   "source": [
    "def EqualityQPSolverLDLdense(H, g, A, b):\n",
    "    n = H.shape[0]\n",
    "    m = A.shape[0]\n",
    "    KKT = np.block([\n",
    "        [H, -A.T],\n",
    "        [A, np.zeros((m, m))]\n",
    "    ])\n",
    "    rhs = np.concatenate([-g, b])\n",
    "    L, D, perm = ldl(KKT)\n",
    "    y = np.linalg.solve(L, rhs[perm])\n",
    "    z = np.linalg.solve(D, y)\n",
    "    sol = np.linalg.solve(L.T, z)\n",
    "    x = sol[:n]\n",
    "    lam = sol[n:]\n",
    "    return x, lam"
   ]
  },
  {
   "cell_type": "code",
   "execution_count": 6,
   "id": "478b88aa",
   "metadata": {},
   "outputs": [
    {
     "ename": "ImportError",
     "evalue": "cannot import name 'spldlt_solve' from 'qdldl' (/Users/lottealstrup/opt/anaconda3/envs/AI/lib/python3.10/site-packages/qdldl.cpython-310-darwin.so)",
     "output_type": "error",
     "traceback": [
      "\u001b[0;31m---------------------------------------------------------------------------\u001b[0m",
      "\u001b[0;31mImportError\u001b[0m                               Traceback (most recent call last)",
      "Cell \u001b[0;32mIn[6], line 7\u001b[0m\n\u001b[1;32m      5\u001b[0m \u001b[38;5;28;01mfrom\u001b[39;00m\u001b[38;5;250m \u001b[39m\u001b[38;5;21;01mscipy\u001b[39;00m\u001b[38;5;21;01m.\u001b[39;00m\u001b[38;5;21;01msparse\u001b[39;00m\u001b[38;5;250m \u001b[39m\u001b[38;5;28;01mimport\u001b[39;00m csc_matrix, bmat\n\u001b[1;32m      6\u001b[0m \u001b[38;5;28;01mimport\u001b[39;00m\u001b[38;5;250m \u001b[39m\u001b[38;5;21;01mqdldl\u001b[39;00m\n\u001b[0;32m----> 7\u001b[0m \u001b[38;5;28;01mfrom\u001b[39;00m\u001b[38;5;250m \u001b[39m\u001b[38;5;21;01mqdldl\u001b[39;00m\u001b[38;5;250m \u001b[39m\u001b[38;5;28;01mimport\u001b[39;00m spldlt_solve\n\u001b[1;32m     10\u001b[0m \u001b[38;5;28;01mdef\u001b[39;00m\u001b[38;5;250m \u001b[39m\u001b[38;5;21mEqualityQPSolverLDLsparse\u001b[39m(H, g, A, b):\n\u001b[1;32m     11\u001b[0m     n \u001b[38;5;241m=\u001b[39m H\u001b[38;5;241m.\u001b[39mshape[\u001b[38;5;241m0\u001b[39m]\n",
      "\u001b[0;31mImportError\u001b[0m: cannot import name 'spldlt_solve' from 'qdldl' (/Users/lottealstrup/opt/anaconda3/envs/AI/lib/python3.10/site-packages/qdldl.cpython-310-darwin.so)"
     ]
    }
   ],
   "source": [
    "\n",
    "from scipy.linalg import lu_factor, lu_solve, ldl\n",
    "from scipy.sparse import csc_matrix\n",
    "from scipy.sparse.linalg import splu, spsolve\n",
    "from scipy.sparse import bmat, csc_matrix\n",
    "from scipy.sparse import csc_matrix, bmat\n",
    "import qdldl\n",
    "from qdldl import spldlt_solve\n",
    "\n",
    "\n",
    "def EqualityQPSolverLDLsparse(H, g, A, b):\n",
    "    n = H.shape[0]\n",
    "    m = A.shape[0]\n",
    "\n",
    "    # KKT system\n",
    "    Hs = csc_matrix(H)\n",
    "    As = csc_matrix(A)\n",
    "    zero = csc_matrix((m, m))\n",
    "    KKT = bmat([\n",
    "        [Hs, -As.T],\n",
    "        [As, zero]\n",
    "    ], format=\"csc\")\n",
    "\n",
    "    rhs = np.concatenate([-g, b])\n",
    "\n",
    "    # Solve using QDLDL\n",
    "    sol = spldlt_solve(KKT, rhs)\n",
    "\n",
    "    x = sol[:n]\n",
    "    lam = sol[n:]\n",
    "    return x, lam\n"
   ]
  },
  {
   "cell_type": "code",
   "execution_count": 7,
   "id": "75b3d578",
   "metadata": {},
   "outputs": [],
   "source": [
    "def EqualityQPSolverRangeSpace(H, g, A, b):\n",
    "    # Range space method\n",
    "    At = A.T\n",
    "    S = A @ np.linalg.solve(H, At)\n",
    "    rhs = b + A @ np.linalg.solve(H, g)\n",
    "    lam = np.linalg.solve(S, rhs)\n",
    "    x = -np.linalg.solve(H, g - At @ lam)\n",
    "    return x, lam"
   ]
  },
  {
   "cell_type": "code",
   "execution_count": 8,
   "id": "cac75993",
   "metadata": {},
   "outputs": [],
   "source": [
    "def EqualityQPSolverNullSpace(H, g, A, b):\n",
    "    # Null space method\n",
    "    from scipy.linalg import null_space\n",
    "    Z = null_space(A)\n",
    "    x0 = np.linalg.lstsq(A, b, rcond=None)[0]\n",
    "    Hz = Z.T @ H @ Z\n",
    "    gz = Z.T @ (H @ x0 + g)\n",
    "    p = -np.linalg.solve(Hz, gz)\n",
    "    x = x0 + Z @ p\n",
    "    lam = np.linalg.lstsq(A.T, H @ x + g, rcond=None)[0]\n",
    "    return x, lam"
   ]
  },
  {
   "cell_type": "code",
   "execution_count": 9,
   "id": "afb7c950",
   "metadata": {},
   "outputs": [],
   "source": [
    "def EqualityQPSolver(H, g, A, b, solver):\n",
    "    solvers = {\n",
    "        \"LUdense\": EqualityQPSolverLUdense,\n",
    "        \"LUsparse\": EqualityQPSolverLUsparse,\n",
    "        \"LDLdense\": EqualityQPSolverLDLdense,\n",
    "        \"LDLsparse\": EqualityQPSolverLDLsparse,\n",
    "        \"RangeSpace\": EqualityQPSolverRangeSpace,\n",
    "        \"NullSpace\": EqualityQPSolverNullSpace\n",
    "    }\n",
    "    if solver not in solvers:\n",
    "        raise ValueError(f\"Unknown solver: {solver}\")\n",
    "    return solvers[solver](H, g, A, b)"
   ]
  },
  {
   "cell_type": "code",
   "execution_count": 10,
   "id": "664828dd",
   "metadata": {},
   "outputs": [],
   "source": [
    "def generate_test_problem(n, beta, alpha):\n",
    "    # Generate random matrix M with 15% nonzero elements\n",
    "    M = np.random.randn(n, n)\n",
    "    mask_M = np.random.rand(n, n) > 0.85\n",
    "    M[mask_M] = 0\n",
    "    \n",
    "    # Generate H = M M' + alpha I\n",
    "    H = M @ M.T + alpha * np.eye(n)\n",
    "    \n",
    "    # Generate random vector g\n",
    "    g = np.random.randn(n)\n",
    "    \n",
    "    # Generate matrix A with 15% nonzero elements\n",
    "    m = round(beta * n)\n",
    "    A = np.random.randn(m, n)\n",
    "    mask_A = np.random.rand(m, n) > 0.85\n",
    "    A[mask_A] = 0\n",
    "    \n",
    "    # Generate random vector b\n",
    "    b = np.random.randn(m)\n",
    "    \n",
    "    return H, g, A, b\n",
    "\n",
    "def compute_lagrangian(H, g, A, b, x, lam):\n",
    "    L = 0.5 * x.T @ H @ x + g.T @ x - lam.T @ (A @ x - b)\n",
    "    return L"
   ]
  },
  {
   "cell_type": "code",
   "execution_count": 11,
   "id": "18cfdf7b",
   "metadata": {},
   "outputs": [],
   "source": [
    "# Parameter\n",
    "n = 100\n",
    "beta = 0.5  \n",
    "alpha = 0.1 \n",
    "\n",
    "# Generate test problem\n",
    "H, g, A, b = generate_test_problem(n, beta, alpha)"
   ]
  },
  {
   "cell_type": "code",
   "execution_count": null,
   "id": "7b778a7a",
   "metadata": {},
   "outputs": [
    {
     "ename": "NameError",
     "evalue": "name 'EqualityQPSolverLDLsparse' is not defined",
     "output_type": "error",
     "traceback": [
      "\u001b[0;31m---------------------------------------------------------------------------\u001b[0m",
      "\u001b[0;31mNameError\u001b[0m                                 Traceback (most recent call last)",
      "Cell \u001b[0;32mIn[13], line 1\u001b[0m\n\u001b[0;32m----> 1\u001b[0m x, lam, time1, cpu1 \u001b[38;5;241m=\u001b[39m \u001b[43mEqualityQPSolver\u001b[49m\u001b[43m(\u001b[49m\u001b[43mH\u001b[49m\u001b[43m,\u001b[49m\u001b[43m \u001b[49m\u001b[43mg\u001b[49m\u001b[43m,\u001b[49m\u001b[43m \u001b[49m\u001b[43mA\u001b[49m\u001b[43m,\u001b[49m\u001b[43m \u001b[49m\u001b[43mb\u001b[49m\u001b[43m,\u001b[49m\u001b[43m \u001b[49m\u001b[38;5;124;43m'\u001b[39;49m\u001b[38;5;124;43mLDLdense\u001b[39;49m\u001b[38;5;124;43m'\u001b[39;49m\u001b[43m)\u001b[49m\n\u001b[1;32m      2\u001b[0m L \u001b[38;5;241m=\u001b[39m compute_lagrangian(H, g, A, b, x, lam)\n\u001b[1;32m      3\u001b[0m L, time1, cpu1\n",
      "Cell \u001b[0;32mIn[9], line 6\u001b[0m, in \u001b[0;36mEqualityQPSolver\u001b[0;34m(H, g, A, b, solver)\u001b[0m\n\u001b[1;32m      1\u001b[0m \u001b[38;5;28;01mdef\u001b[39;00m\u001b[38;5;250m \u001b[39m\u001b[38;5;21mEqualityQPSolver\u001b[39m(H, g, A, b, solver):\n\u001b[1;32m      2\u001b[0m     solvers \u001b[38;5;241m=\u001b[39m {\n\u001b[1;32m      3\u001b[0m         \u001b[38;5;124m\"\u001b[39m\u001b[38;5;124mLUdense\u001b[39m\u001b[38;5;124m\"\u001b[39m: EqualityQPSolverLUdense,\n\u001b[1;32m      4\u001b[0m         \u001b[38;5;124m\"\u001b[39m\u001b[38;5;124mLUsparse\u001b[39m\u001b[38;5;124m\"\u001b[39m: EqualityQPSolverLUsparse,\n\u001b[1;32m      5\u001b[0m         \u001b[38;5;124m\"\u001b[39m\u001b[38;5;124mLDLdense\u001b[39m\u001b[38;5;124m\"\u001b[39m: EqualityQPSolverLDLdense,\n\u001b[0;32m----> 6\u001b[0m         \u001b[38;5;124m\"\u001b[39m\u001b[38;5;124mLDLsparse\u001b[39m\u001b[38;5;124m\"\u001b[39m: \u001b[43mEqualityQPSolverLDLsparse\u001b[49m,\n\u001b[1;32m      7\u001b[0m         \u001b[38;5;124m\"\u001b[39m\u001b[38;5;124mRangeSpace\u001b[39m\u001b[38;5;124m\"\u001b[39m: EqualityQPSolverRangeSpace,\n\u001b[1;32m      8\u001b[0m         \u001b[38;5;124m\"\u001b[39m\u001b[38;5;124mNullSpace\u001b[39m\u001b[38;5;124m\"\u001b[39m: EqualityQPSolverNullSpace\n\u001b[1;32m      9\u001b[0m     }\n\u001b[1;32m     10\u001b[0m     \u001b[38;5;28;01mif\u001b[39;00m solver \u001b[38;5;129;01mnot\u001b[39;00m \u001b[38;5;129;01min\u001b[39;00m solvers:\n\u001b[1;32m     11\u001b[0m         \u001b[38;5;28;01mraise\u001b[39;00m \u001b[38;5;167;01mValueError\u001b[39;00m(\u001b[38;5;124mf\u001b[39m\u001b[38;5;124m\"\u001b[39m\u001b[38;5;124mUnknown solver: \u001b[39m\u001b[38;5;132;01m{\u001b[39;00msolver\u001b[38;5;132;01m}\u001b[39;00m\u001b[38;5;124m\"\u001b[39m)\n",
      "\u001b[0;31mNameError\u001b[0m: name 'EqualityQPSolverLDLsparse' is not defined"
     ]
    }
   ],
   "source": [
    "x, lam, time1, cpu1 = EqualityQPSolver(H, g, A, b, 'LDLdense')\n",
    "L = compute_lagrangian(H, g, A, b, x, lam)\n",
    "L, time1, cpu1"
   ]
  }
 ],
 "metadata": {
  "kernelspec": {
   "display_name": "AI",
   "language": "python",
   "name": "python3"
  },
  "language_info": {
   "codemirror_mode": {
    "name": "ipython",
    "version": 3
   },
   "file_extension": ".py",
   "mimetype": "text/x-python",
   "name": "python",
   "nbconvert_exporter": "python",
   "pygments_lexer": "ipython3",
   "version": "3.10.16"
  }
 },
 "nbformat": 4,
 "nbformat_minor": 5
}
