{
 "cells": [
  {
   "cell_type": "code",
   "execution_count": 24,
   "metadata": {},
   "outputs": [],
   "source": [
    "import numpy as np\n",
    "import time\n",
    "import psutil\n",
    "from scipy.linalg import lu_factor, lu_solve, ldl\n",
    "from scipy.sparse import csc_matrix, bmat\n",
    "from scipy.sparse.linalg import splu, spsolve\n",
    "import matplotlib.pyplot as plt"
   ]
  },
  {
   "cell_type": "markdown",
   "metadata": {},
   "source": [
    "# 1.3"
   ]
  },
  {
   "cell_type": "markdown",
   "metadata": {},
   "source": [
    "# Equality Solver"
   ]
  },
  {
   "cell_type": "code",
   "execution_count": 25,
   "metadata": {},
   "outputs": [],
   "source": [
    "def measure_cpu_usage(interval=1.0):\n",
    "    return psutil.cpu_percent(interval=interval)\n",
    "\n",
    "def EqualityQPSolverLUdense(H, g, A, b):\n",
    "    start_time = time.time()\n",
    "    start_cpu = time.process_time()\n",
    "    \n",
    "    n = H.shape[0]\n",
    "    m = A.shape[1]\n",
    "    KKT = np.block([\n",
    "        [H, A],\n",
    "        [A.T, np.zeros((m, m))]\n",
    "    ])\n",
    "    rhs = np.concatenate([-g, b])\n",
    "    lu, piv = lu_factor(KKT)\n",
    "    sol = lu_solve((lu, piv), rhs)\n",
    "    x = sol[:n]\n",
    "    lam = sol[n:]\n",
    "    \n",
    "    end_time = time.time()\n",
    "    end_cpu = time.process_time()\n",
    "    \n",
    "    elapsed_time = end_time - start_time\n",
    "    cpu_usage = end_cpu - start_cpu\n",
    "    \n",
    "    return x, lam, elapsed_time, cpu_usage\n",
    "\n",
    "def EqualityQPSolverLUsparse(H, g, A, b):\n",
    "    start_time = time.time()\n",
    "    start_cpu = time.process_time()\n",
    "    \n",
    "    n = H.shape[0]\n",
    "    m = b.shape[0]\n",
    "    Hs = csc_matrix(H)\n",
    "    As = csc_matrix(A)\n",
    "    KKT = bmat([\n",
    "    [Hs, -As.T],\n",
    "    [As, None]\n",
    "], format='csc')\n",
    "    rhs = np.concatenate([-g, b])\n",
    "    lu = splu(KKT)\n",
    "    sol = lu.solve(rhs)\n",
    "    x = sol[:n]\n",
    "    lam = sol[n:]\n",
    "    \n",
    "    end_time = time.time()\n",
    "    end_cpu = time.process_time()\n",
    "    \n",
    "    elapsed_time = end_time - start_time\n",
    "    cpu_usage = end_cpu - start_cpu\n",
    "    \n",
    "    return x, lam, elapsed_time, cpu_usage\n",
    "\n",
    "def EqualityQPSolverLDLdense(H, g, A, b):\n",
    "    start_time = time.time()\n",
    "    start_cpu = time.process_time()\n",
    "    \n",
    "    n = H.shape[0]\n",
    "    m = A.shape[0]\n",
    "    KKT = np.block([\n",
    "        [H, -A.T],\n",
    "        [A, np.zeros((m, m))]\n",
    "    ])\n",
    "    rhs = np.concatenate([-g, b])\n",
    "    L, D, perm = ldl(KKT)\n",
    "    y = np.linalg.solve(L, rhs[perm])\n",
    "    z = np.linalg.solve(D, y)\n",
    "    sol = np.linalg.solve(L.T, z)\n",
    "    x = sol[:n]\n",
    "    lam = sol[n:]\n",
    "    \n",
    "    end_time = time.time()\n",
    "    end_cpu = time.process_time()\n",
    "    \n",
    "    elapsed_time = end_time - start_time\n",
    "    cpu_usage = end_cpu - start_cpu\n",
    "    \n",
    "    return x, lam, elapsed_time, cpu_usage\n",
    "\n",
    "def EqualityQPSolverLDLsparse(H, g, A, b):\n",
    " #doesnt work\n",
    " return ('dosent work in python')\n",
    "\n",
    "def EqualityQPSolverRangeSpace(H, g, A, b):\n",
    "    start_time = time.time()\n",
    "    start_cpu = time.process_time()\n",
    "    \n",
    "    # Range space method\n",
    "    At = A.T\n",
    "    S = A @ np.linalg.solve(H, At)\n",
    "    rhs = b + A @ np.linalg.solve(H, g)\n",
    "    lam = np.linalg.solve(S, rhs)\n",
    "    x = -np.linalg.solve(H, g - At @ lam)\n",
    "    \n",
    "    end_time = time.time()\n",
    "    end_cpu = time.process_time()\n",
    "    \n",
    "    elapsed_time = end_time - start_time\n",
    "    cpu_time = end_cpu - start_cpu\n",
    "    \n",
    "    return x, lam, elapsed_time, cpu_time\n",
    "\n",
    "def EqualityQPSolverNullSpace(H, g, A, b):\n",
    "    start_time = time.time()\n",
    "    start_cpu = time.process_time()\n",
    "    \n",
    "    # Null space method\n",
    "    from scipy.linalg import null_space\n",
    "    Z = null_space(A)\n",
    "    x0 = np.linalg.lstsq(A, b, rcond=None)[0]\n",
    "    Hz = Z.T @ H @ Z\n",
    "    gz = Z.T @ (H @ x0 + g)\n",
    "    p = -np.linalg.solve(Hz, gz)\n",
    "    x = x0 + Z @ p\n",
    "    lam = np.linalg.lstsq(A.T, H @ x + g, rcond=None)[0]\n",
    "    \n",
    "    end_time = time.time()\n",
    "    end_cpu = time.process_time()\n",
    "    \n",
    "    elapsed_time = end_time - start_time\n",
    "    cpu_usage = end_cpu - start_cpu\n",
    "    \n",
    "    return x, lam, elapsed_time, cpu_usage\n",
    "\n",
    "def EqualityQPSolver(H, g, A, b, solver):\n",
    "    solvers = {\n",
    "        \"LUdense\": EqualityQPSolverLUdense,\n",
    "        \"LUsparse\": EqualityQPSolverLUsparse,\n",
    "        \"LDLdense\": EqualityQPSolverLDLdense,\n",
    "        \"LDLsparse\": EqualityQPSolverLDLsparse,\n",
    "        \"RangeSpace\": EqualityQPSolverRangeSpace,\n",
    "        \"NullSpace\": EqualityQPSolverNullSpace\n",
    "    }\n",
    "    if solver not in solvers:\n",
    "        raise ValueError(f\"Unknown solver: {solver}\")\n",
    "    return solvers[solver](H, g, A, b)\n"
   ]
  },
  {
   "cell_type": "code",
   "execution_count": 26,
   "metadata": {},
   "outputs": [],
   "source": [
    "def generate_test_problem(n, beta, alpha):\n",
    "    # Generate random matrix M with 15% nonzero elements\n",
    "    M = np.random.randn(n, n)\n",
    "    mask_M = np.random.rand(n, n) > 0.85\n",
    "    M[mask_M] = 0\n",
    "    \n",
    "    # Generate H = M M' + alpha I\n",
    "    H = M @ M.T + alpha * np.eye(n)\n",
    "    \n",
    "    # Generate random vector g\n",
    "    g = np.random.randn(n)\n",
    "    \n",
    "    # Generate matrix A with 15% nonzero elements\n",
    "    m = round(beta * n)\n",
    "    A = np.random.randn(m, n)\n",
    "    mask_A = np.random.rand(m, n) > 0.85\n",
    "    A[mask_A] = 0\n",
    "\n",
    "    # Transpose A so shape is (n × m), as expected by solver\n",
    "    A = A.T\n",
    "    \n",
    "    # Generate random vector b\n",
    "    b = np.random.randn(m)\n",
    "    \n",
    "    return H, g, A, b\n",
    "\n",
    "def compute_lagrangian(H, g, A, b, x, lam):\n",
    "    L = 0.5 * x.T @ H @ x + g.T @ x - np.dot(lam, (A.T @ x - b))\n",
    "    return L\n"
   ]
  },
  {
   "cell_type": "code",
   "execution_count": 27,
   "metadata": {},
   "outputs": [
    {
     "name": "stdout",
     "output_type": "stream",
     "text": [
      "x: [ 0.14942249 -0.00586125  0.04829555 -0.07021552  0.03807089 -0.00532409\n",
      " -0.24651211  0.27968437  0.09039149  0.18194673  0.12850585 -0.40226687\n",
      " -0.09066253 -0.28873601 -0.09308505  0.10584299  0.14114747  0.05698179\n",
      "  0.31395428  0.03230159 -0.0472302   0.05626482  0.2688706  -0.06376941\n",
      "  0.30514453  0.12325484 -0.11111315 -0.12962575 -0.09905142 -0.08289109\n",
      "  0.04740822 -0.06963854 -0.26996341 -0.10360359  0.35350272 -0.038412\n",
      "  0.17838291  0.19606213  0.02219332 -0.1036406   0.12457081  0.04057032\n",
      " -0.04945967  0.07980445  0.10367323  0.05267071 -0.24201189 -0.33163025\n",
      " -0.16626331 -0.04338016  0.28463837  0.04553417  0.39393014 -0.0317796\n",
      "  0.15577135  0.11231427 -0.07329468  0.04268089 -0.21504073  0.01965871\n",
      " -0.24303057  0.12504482  0.01636513  0.13271933 -0.03184817  0.04279165\n",
      " -0.31135864  0.10193769 -0.31187568 -0.00883788  0.00983664  0.25460181\n",
      "  0.03836427  0.07749805  0.05104892  0.12473845 -0.44170602  0.06205612\n",
      "  0.05548412  0.3722264   0.05633953  0.0025162   0.20628982  0.14151414\n",
      "  0.06939584 -0.1219984   0.17885996  0.08986212  0.01691676  0.03027014\n",
      " -0.35818423 -0.41402364 -0.09833349  0.23829954  0.31291031  0.18386212\n",
      " -0.0668403  -0.12834058  0.03618762 -0.18621141]\n",
      "lam: [ 2.29698186  0.3260314  -0.33005863  2.06166892 -4.41692342 -1.29560468\n",
      " -6.81561176 -4.99909933  3.11165277  2.06439077  3.23336899  0.69759253\n",
      "  1.64243306  0.81114595  0.73757292  2.83236725  0.78344305 -3.7437483\n",
      " -1.94896547 -2.98423593 -0.33416375  2.21001314 -0.02136868 -4.47505733\n",
      "  1.78144122 -0.18917774  3.18363112  1.26939017  5.27015915 -1.55053069\n",
      "  2.02527489 -0.17242609 -1.81568433 -2.04106741 -4.14979919  2.4153793\n",
      "  0.37000474  2.15017626 -0.3575979  -7.36978965  1.8257302   4.39732959\n",
      "  2.58755354  5.88520443  2.76732951  5.74483857 -0.90946133  0.50808127\n",
      "  1.99806742 -1.01169251]\n",
      "A: [[ 0.28646832  0.          0.76146661 ... -0.98058695 -1.18936813\n",
      "   0.88159764]\n",
      " [-0.1339306   0.          0.         ... -1.36675387 -1.14000146\n",
      "   0.30531095]\n",
      " [ 0.07032156 -0.24193515  0.         ... -0.25269654  0.\n",
      "  -0.07049113]\n",
      " ...\n",
      " [ 0.85650113 -0.69638598 -0.73014593 ... -0.22742775 -0.16623236\n",
      "  -0.51151305]\n",
      " [-0.05301696 -1.12835974  0.         ... -0.35604609  0.03198312\n",
      "   0.62194947]\n",
      " [-1.0267587  -1.39918592  0.80368438 ...  0.74192335  0.\n",
      "  -0.49490372]]\n",
      "b: [-2.33101965 -0.11946934 -1.11521271 -1.93821829  0.99497664  0.04739962\n",
      "  2.24929656  1.53802481  0.92047944 -0.25842741 -0.40265073  1.55698051\n",
      " -0.83682358  0.94717779 -0.16523332 -0.78118355  0.32514117  1.04872902\n",
      "  1.28436934  1.08836479 -0.37586035 -1.04349821 -0.39694372  1.64978571\n",
      " -0.93587129  0.47201903 -0.08008513  0.76902348  0.09816773 -0.68227248\n",
      " -0.3327619   0.5729758  -0.20208702 -0.08358854  1.7475436  -0.47340617\n",
      " -0.15119387 -0.91380052  0.80489043  1.516196   -0.20031078 -2.45007844\n",
      "  0.06069469 -2.13011728 -0.22279325  0.450708   -1.43393479 -1.65330844\n",
      " -1.84993275  0.59268071]\n"
     ]
    }
   ],
   "source": [
    "# Parameters\n",
    "n = 100  # Size of x\n",
    "beta = 0.5  # Ratio for size of A\n",
    "alpha = 1.0 # Regularization parameter\n",
    "\n",
    "# Generate test problem\n",
    "np.random.seed(237)  # Set seed once, before generating data\n",
    "H, g, A, b = generate_test_problem(n, beta, alpha)\n",
    "\n",
    "# Print the variables, so it can be used in MatLab as well\n",
    "print(\"x:\", x)\n",
    "print(\"lam:\", lam)\n",
    "print(\"A:\", (A))\n",
    "print(\"b:\", b)"
   ]
  },
  {
   "cell_type": "code",
   "execution_count": 28,
   "metadata": {},
   "outputs": [],
   "source": [
    "# x, lam, time1, cpu1 = EqualityQPSolver(H, g, A, b, 'LDLsparse')\n",
    "# L = compute_lagrangian(H, g, A, b, x, lam)\n",
    "# L, time1, cpu1 "
   ]
  },
  {
   "cell_type": "code",
   "execution_count": 29,
   "metadata": {},
   "outputs": [
    {
     "name": "stdout",
     "output_type": "stream",
     "text": [
      "This is the LU dense, L: 50.7140, time1: 0.0273, cpu: 0.0112\n"
     ]
    }
   ],
   "source": [
    "x, lam, time1, cpu1 = EqualityQPSolver(H, g, A, b, 'LUdense')\n",
    "L = compute_lagrangian(H, g, A, b, x, lam)\n",
    "print(f\"This is the LU dense, L: {L:.4f}, time1: {time1:.4f}, cpu: {cpu1:.4f}\")"
   ]
  },
  {
   "cell_type": "code",
   "execution_count": 30,
   "metadata": {},
   "outputs": [
    {
     "ename": "ValueError",
     "evalue": "blocks[0,:] has incompatible row dimensions. Got blocks[0,1].shape[0] == 50, expected 100.",
     "output_type": "error",
     "traceback": [
      "\u001b[0;31m---------------------------------------------------------------------------\u001b[0m",
      "\u001b[0;31mValueError\u001b[0m                                Traceback (most recent call last)",
      "Cell \u001b[0;32mIn[30], line 1\u001b[0m\n\u001b[0;32m----> 1\u001b[0m x, lam, time1, cpu1 \u001b[38;5;241m=\u001b[39m \u001b[43mEqualityQPSolver\u001b[49m\u001b[43m(\u001b[49m\u001b[43mH\u001b[49m\u001b[43m,\u001b[49m\u001b[43m \u001b[49m\u001b[43mg\u001b[49m\u001b[43m,\u001b[49m\u001b[43m \u001b[49m\u001b[43mA\u001b[49m\u001b[43m,\u001b[49m\u001b[43m \u001b[49m\u001b[43mb\u001b[49m\u001b[43m,\u001b[49m\u001b[43m \u001b[49m\u001b[38;5;124;43m'\u001b[39;49m\u001b[38;5;124;43mLUsparse\u001b[39;49m\u001b[38;5;124;43m'\u001b[39;49m\u001b[43m)\u001b[49m\n\u001b[1;32m      2\u001b[0m L \u001b[38;5;241m=\u001b[39m compute_lagrangian(H, g, A, b, x, lam)\n\u001b[1;32m      3\u001b[0m \u001b[38;5;28mprint\u001b[39m(\u001b[38;5;124mf\u001b[39m\u001b[38;5;124m\"\u001b[39m\u001b[38;5;124mThis is the LU sparse, L: \u001b[39m\u001b[38;5;132;01m{\u001b[39;00mL\u001b[38;5;132;01m:\u001b[39;00m\u001b[38;5;124m.4f\u001b[39m\u001b[38;5;132;01m}\u001b[39;00m\u001b[38;5;124m, time1: \u001b[39m\u001b[38;5;132;01m{\u001b[39;00mtime1\u001b[38;5;132;01m:\u001b[39;00m\u001b[38;5;124m.4f\u001b[39m\u001b[38;5;132;01m}\u001b[39;00m\u001b[38;5;124m, cpu: \u001b[39m\u001b[38;5;132;01m{\u001b[39;00mcpu1\u001b[38;5;132;01m:\u001b[39;00m\u001b[38;5;124m.4f\u001b[39m\u001b[38;5;132;01m}\u001b[39;00m\u001b[38;5;124m\"\u001b[39m)\n",
      "Cell \u001b[0;32mIn[25], line 136\u001b[0m, in \u001b[0;36mEqualityQPSolver\u001b[0;34m(H, g, A, b, solver)\u001b[0m\n\u001b[1;32m    134\u001b[0m \u001b[38;5;28;01mif\u001b[39;00m solver \u001b[38;5;129;01mnot\u001b[39;00m \u001b[38;5;129;01min\u001b[39;00m solvers:\n\u001b[1;32m    135\u001b[0m     \u001b[38;5;28;01mraise\u001b[39;00m \u001b[38;5;167;01mValueError\u001b[39;00m(\u001b[38;5;124mf\u001b[39m\u001b[38;5;124m\"\u001b[39m\u001b[38;5;124mUnknown solver: \u001b[39m\u001b[38;5;132;01m{\u001b[39;00msolver\u001b[38;5;132;01m}\u001b[39;00m\u001b[38;5;124m\"\u001b[39m)\n\u001b[0;32m--> 136\u001b[0m \u001b[38;5;28;01mreturn\u001b[39;00m \u001b[43msolvers\u001b[49m\u001b[43m[\u001b[49m\u001b[43msolver\u001b[49m\u001b[43m]\u001b[49m\u001b[43m(\u001b[49m\u001b[43mH\u001b[49m\u001b[43m,\u001b[49m\u001b[43m \u001b[49m\u001b[43mg\u001b[49m\u001b[43m,\u001b[49m\u001b[43m \u001b[49m\u001b[43mA\u001b[49m\u001b[43m,\u001b[49m\u001b[43m \u001b[49m\u001b[43mb\u001b[49m\u001b[43m)\u001b[49m\n",
      "Cell \u001b[0;32mIn[25], line 36\u001b[0m, in \u001b[0;36mEqualityQPSolverLUsparse\u001b[0;34m(H, g, A, b)\u001b[0m\n\u001b[1;32m     34\u001b[0m     Hs \u001b[38;5;241m=\u001b[39m csc_matrix(H)\n\u001b[1;32m     35\u001b[0m     As \u001b[38;5;241m=\u001b[39m csc_matrix(A)\n\u001b[0;32m---> 36\u001b[0m     KKT \u001b[38;5;241m=\u001b[39m \u001b[43mbmat\u001b[49m\u001b[43m(\u001b[49m\u001b[43m[\u001b[49m\n\u001b[1;32m     37\u001b[0m \u001b[43m    \u001b[49m\u001b[43m[\u001b[49m\u001b[43mHs\u001b[49m\u001b[43m,\u001b[49m\u001b[43m \u001b[49m\u001b[38;5;241;43m-\u001b[39;49m\u001b[43mAs\u001b[49m\u001b[38;5;241;43m.\u001b[39;49m\u001b[43mT\u001b[49m\u001b[43m]\u001b[49m\u001b[43m,\u001b[49m\n\u001b[1;32m     38\u001b[0m \u001b[43m    \u001b[49m\u001b[43m[\u001b[49m\u001b[43mAs\u001b[49m\u001b[43m,\u001b[49m\u001b[43m \u001b[49m\u001b[38;5;28;43;01mNone\u001b[39;49;00m\u001b[43m]\u001b[49m\n\u001b[1;32m     39\u001b[0m \u001b[43m]\u001b[49m\u001b[43m,\u001b[49m\u001b[43m \u001b[49m\u001b[38;5;28;43mformat\u001b[39;49m\u001b[38;5;241;43m=\u001b[39;49m\u001b[38;5;124;43m'\u001b[39;49m\u001b[38;5;124;43mcsc\u001b[39;49m\u001b[38;5;124;43m'\u001b[39;49m\u001b[43m)\u001b[49m\n\u001b[1;32m     40\u001b[0m     rhs \u001b[38;5;241m=\u001b[39m np\u001b[38;5;241m.\u001b[39mconcatenate([\u001b[38;5;241m-\u001b[39mg, b])\n\u001b[1;32m     41\u001b[0m     lu \u001b[38;5;241m=\u001b[39m splu(KKT)\n",
      "File \u001b[0;32m~/opt/anaconda3/envs/AI/lib/python3.10/site-packages/scipy/sparse/_construct.py:868\u001b[0m, in \u001b[0;36mbmat\u001b[0;34m(blocks, format, dtype)\u001b[0m\n\u001b[1;32m    866\u001b[0m     \u001b[38;5;28;01mreturn\u001b[39;00m _block(blocks, \u001b[38;5;28mformat\u001b[39m, dtype)\n\u001b[1;32m    867\u001b[0m \u001b[38;5;28;01melse\u001b[39;00m:\n\u001b[0;32m--> 868\u001b[0m     \u001b[38;5;28;01mreturn\u001b[39;00m \u001b[43m_block\u001b[49m\u001b[43m(\u001b[49m\u001b[43mblocks\u001b[49m\u001b[43m,\u001b[49m\u001b[43m \u001b[49m\u001b[38;5;28;43mformat\u001b[39;49m\u001b[43m,\u001b[49m\u001b[43m \u001b[49m\u001b[43mdtype\u001b[49m\u001b[43m,\u001b[49m\u001b[43m \u001b[49m\u001b[43mreturn_spmatrix\u001b[49m\u001b[38;5;241;43m=\u001b[39;49m\u001b[38;5;28;43;01mTrue\u001b[39;49;00m\u001b[43m)\u001b[49m\n",
      "File \u001b[0;32m~/opt/anaconda3/envs/AI/lib/python3.10/site-packages/scipy/sparse/_construct.py:971\u001b[0m, in \u001b[0;36m_block\u001b[0;34m(blocks, format, dtype, return_spmatrix)\u001b[0m\n\u001b[1;32m    967\u001b[0m \u001b[38;5;28;01melif\u001b[39;00m brow_lengths[i] \u001b[38;5;241m!=\u001b[39m A\u001b[38;5;241m.\u001b[39m_shape_as_2d[\u001b[38;5;241m0\u001b[39m]:\n\u001b[1;32m    968\u001b[0m     msg \u001b[38;5;241m=\u001b[39m (\u001b[38;5;124mf\u001b[39m\u001b[38;5;124m'\u001b[39m\u001b[38;5;124mblocks[\u001b[39m\u001b[38;5;132;01m{\u001b[39;00mi\u001b[38;5;132;01m}\u001b[39;00m\u001b[38;5;124m,:] has incompatible row dimensions. \u001b[39m\u001b[38;5;124m'\u001b[39m\n\u001b[1;32m    969\u001b[0m            \u001b[38;5;124mf\u001b[39m\u001b[38;5;124m'\u001b[39m\u001b[38;5;124mGot blocks[\u001b[39m\u001b[38;5;132;01m{\u001b[39;00mi\u001b[38;5;132;01m}\u001b[39;00m\u001b[38;5;124m,\u001b[39m\u001b[38;5;132;01m{\u001b[39;00mj\u001b[38;5;132;01m}\u001b[39;00m\u001b[38;5;124m].shape[0] == \u001b[39m\u001b[38;5;132;01m{\u001b[39;00mA\u001b[38;5;241m.\u001b[39m_shape_as_2d[\u001b[38;5;241m0\u001b[39m]\u001b[38;5;132;01m}\u001b[39;00m\u001b[38;5;124m, \u001b[39m\u001b[38;5;124m'\u001b[39m\n\u001b[1;32m    970\u001b[0m            \u001b[38;5;124mf\u001b[39m\u001b[38;5;124m'\u001b[39m\u001b[38;5;124mexpected \u001b[39m\u001b[38;5;132;01m{\u001b[39;00mbrow_lengths[i]\u001b[38;5;132;01m}\u001b[39;00m\u001b[38;5;124m.\u001b[39m\u001b[38;5;124m'\u001b[39m)\n\u001b[0;32m--> 971\u001b[0m     \u001b[38;5;28;01mraise\u001b[39;00m \u001b[38;5;167;01mValueError\u001b[39;00m(msg)\n\u001b[1;32m    973\u001b[0m \u001b[38;5;28;01mif\u001b[39;00m bcol_lengths[j] \u001b[38;5;241m==\u001b[39m \u001b[38;5;241m0\u001b[39m:\n\u001b[1;32m    974\u001b[0m     bcol_lengths[j] \u001b[38;5;241m=\u001b[39m A\u001b[38;5;241m.\u001b[39m_shape_as_2d[\u001b[38;5;241m1\u001b[39m]\n",
      "\u001b[0;31mValueError\u001b[0m: blocks[0,:] has incompatible row dimensions. Got blocks[0,1].shape[0] == 50, expected 100."
     ]
    }
   ],
   "source": [
    "x, lam, time1, cpu1 = EqualityQPSolver(H, g, A, b, 'LUsparse')\n",
    "L = compute_lagrangian(H, g, A, b, x, lam)\n",
    "print(f\"This is the LU sparse, L: {L:.4f}, time1: {time1:.4f}, cpu: {cpu1:.4f}\")"
   ]
  },
  {
   "cell_type": "code",
   "execution_count": null,
   "metadata": {},
   "outputs": [
    {
     "name": "stdout",
     "output_type": "stream",
     "text": [
      "This is the LDLdense, L: 233.3695, time1: 0.4834, cpu: 2.1556\n"
     ]
    }
   ],
   "source": [
    "x, lam, time1, cpu1 = EqualityQPSolver(H, g, A, b, 'LDLdense')\n",
    "L = compute_lagrangian(H, g, A, b, x, lam)\n",
    "print(f\"This is the LDLdense, L: {L:.4f}, time1: {time1:.4f}, cpu: {cpu1:.4f}\")"
   ]
  },
  {
   "cell_type": "code",
   "execution_count": null,
   "metadata": {},
   "outputs": [
    {
     "name": "stdout",
     "output_type": "stream",
     "text": [
      "This is the Range space, L: 233.3695, time1: 0.1361, cpu: 1.0068\n"
     ]
    }
   ],
   "source": [
    "x, lam, time1, cpu1 = EqualityQPSolver(H, g, A, b, 'RangeSpace')\n",
    "L = compute_lagrangian(H, g, A, b, x, lam)\n",
    "print(f\"This is the Range space, L: {L:.4f}, time1: {time1:.4f}, cpu: {cpu1:.4f}\")"
   ]
  },
  {
   "cell_type": "code",
   "execution_count": null,
   "metadata": {},
   "outputs": [
    {
     "name": "stdout",
     "output_type": "stream",
     "text": [
      "This is the NullSpace, L: 233.3695, time1: 0.8488, cpu: 6.3665\n"
     ]
    }
   ],
   "source": [
    "x, lam, time1, cpu1 = EqualityQPSolver(H, g, A, b, 'NullSpace')\n",
    "L = compute_lagrangian(H, g, A, b, x, lam)\n",
    "print(f\"This is the NullSpace, L: {L:.4f}, time1: {time1:.4f}, cpu: {cpu1:.4f}\")"
   ]
  },
  {
   "cell_type": "markdown",
   "metadata": {},
   "source": [
    "# 1.6"
   ]
  },
  {
   "cell_type": "code",
   "execution_count": null,
   "metadata": {},
   "outputs": [],
   "source": [
    "def EqualityQPSolverLUdense(H, g, A, b):\n",
    "    start = time.time()\n",
    "    n = H.shape[0]\n",
    "    m = A.shape[1]\n",
    "\n",
    "    KKT = np.block([\n",
    "        [H, A],\n",
    "        [A.T, np.zeros((m, m))]\n",
    "    ])\n",
    "    rhs = -np.concatenate([g, b])\n",
    "    sol = np.linalg.solve(KKT, rhs)\n",
    "\n",
    "    x = sol[:n]\n",
    "    lam = sol[n:]\n",
    "    wall_time = time.time() - start\n",
    "    cpu_time = time.process_time()\n",
    "    return x, lam, wall_time, cpu_time"
   ]
  },
  {
   "cell_type": "code",
   "execution_count": null,
   "metadata": {},
   "outputs": [
    {
     "data": {
      "image/png": "[encoded data removed]",
      "text/plain": [
       "<Figure size 800x500 with 1 Axes>"
      ]
     },
     "metadata": {},
     "output_type": "display_data"
    }
   ],
   "source": [
    "# Parameters\n",
    "H = np.array([\n",
    "    [6.0000, 1.8600, 1.2400, 1.4800, -0.4600],\n",
    "    [1.8600, 4.0000, 0.4400, 1.1200, 0.5200],\n",
    "    [1.2400, 0.4400, 3.8000, 1.5600, -0.5400],\n",
    "    [1.4800, 1.1200, 1.5600, 7.2000, -1.1200],\n",
    "    [-0.4600, 0.5200, -0.5400, -1.1200, 7.8000]\n",
    "])\n",
    "\n",
    "g = np.array([-16.1000, -8.5000, -15.7000, -10.0200, -18.6800])\n",
    "\n",
    "A = np.array([\n",
    "    [16.1000, 1.0000],\n",
    "    [8.5000, 1.0000],\n",
    "    [15.7000, 1.0000],\n",
    "    [10.0200, 1.0000],\n",
    "    [18.6800, 1.0000]\n",
    "])\n",
    "\n",
    "# Vary b[0] from 8.5 to 18.68\n",
    "b1_values = np.linspace(8.5, 18.68, 100)\n",
    "x1_values = []\n",
    "\n",
    "for b1 in b1_values:\n",
    "    b = np.array([b1, 1.0])\n",
    "    x, _, _, _ = EqualityQPSolver(H, g, A, b, 'LUdense')  # Ignore extras if not needed\n",
    "    x1_values.append(x[0])\n",
    "\n",
    "# Plotting\n",
    "plt.figure(figsize=(8, 5))\n",
    "plt.plot(b1_values, x1_values, label=r'$x_1$ as function of $b_1$')\n",
    "plt.xlabel(r'$b_1$')\n",
    "plt.ylabel(r'$x_1$')\n",
    "plt.title(r'Sensitivity of $x_1$ to $b_1$')\n",
    "plt.grid(True)\n",
    "plt.legend()\n",
    "plt.tight_layout()\n",
    "plt.show()\n"
   ]
  }
 ],
 "metadata": {
  "kernelspec": {
   "display_name": "AI",
   "language": "python",
   "name": "python3"
  },
  "language_info": {
   "codemirror_mode": {
    "name": "ipython",
    "version": 3
   },
   "file_extension": ".py",
   "mimetype": "text/x-python",
   "name": "python",
   "nbconvert_exporter": "python",
   "pygments_lexer": "ipython3",
   "version": "3.10.16"
  }
 },
 "nbformat": 4,
 "nbformat_minor": 2
}
