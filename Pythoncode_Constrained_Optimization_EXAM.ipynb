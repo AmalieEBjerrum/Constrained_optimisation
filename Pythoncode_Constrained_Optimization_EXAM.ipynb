{
 "cells": [
  {
   "cell_type": "code",
   "execution_count": null,
   "metadata": {},
   "outputs": [],
   "source": []
  },
  {
   "cell_type": "code",
   "execution_count": null,
   "metadata": {},
   "outputs": [],
   "source": []
  },
  {
   "cell_type": "code",
   "execution_count": null,
   "metadata": {},
   "outputs": [],
   "source": [
    "\n",
    "import numpy as np\n",
    "from scipy.linalg import qr, lu, ldl, cholesky, solve\n",
    "from scipy.sparse.linalg import splu\n",
    "import matplotlib.pyplot as plt\n",
    "import sympy as sp\n",
    "from \n",
    "\n"
   ]
  },
  {
   "cell_type": "markdown",
   "metadata": {},
   "source": [
    "# 1.3"
   ]
  },
  {
   "cell_type": "markdown",
   "metadata": {},
   "source": [
    "# LU dense"
   ]
  },
  {
   "cell_type": "code",
   "execution_count": 25,
   "metadata": {},
   "outputs": [],
   "source": [
    "import numpy as np\n",
    "import time\n",
    "import psutil\n",
    "from scipy.linalg import lu_factor, lu_solve, ldl\n",
    "from scipy.sparse import csc_matrix\n",
    "from scipy.sparse.linalg import splu, spsolve\n",
    "import qdldl\n",
    "#from qdldl import factor\n",
    "\n",
    "def measure_cpu_usage(interval=1.0):\n",
    "    return psutil.cpu_percent(interval=interval)\n",
    "\n",
    "def EqualityQPSolverLUdense(H, g, A, b):\n",
    "    start_time = time.time()\n",
    "    start_cpu = measure_cpu_usage(interval=1.0)\n",
    "    \n",
    "    n = H.shape[0]\n",
    "    m = A.shape[0]\n",
    "    KKT = np.block([\n",
    "        [H, -A.T],\n",
    "        [A, np.zeros((m, m))]\n",
    "    ])\n",
    "    rhs = np.concatenate([-g, b])\n",
    "    lu, piv = lu_factor(KKT)\n",
    "    sol = lu_solve((lu, piv), rhs)\n",
    "    x = sol[:n]\n",
    "    lam = sol[n:]\n",
    "    \n",
    "    end_time = time.time()\n",
    "    end_cpu = measure_cpu_usage(interval=1.0)\n",
    "    \n",
    "    elapsed_time = end_time - start_time\n",
    "    cpu_usage = end_cpu - start_cpu\n",
    "    \n",
    "    return x, lam, elapsed_time, cpu_usage\n",
    "\n",
    "def EqualityQPSolverLUsparse(H, g, A, b):\n",
    "    start_time = time.time()\n",
    "    start_cpu = measure_cpu_usage(interval=1.0)\n",
    "    \n",
    "    n = H.shape[0]\n",
    "    m = A.shape[0]\n",
    "    Hs = csc_matrix(H)\n",
    "    As = csc_matrix(A)\n",
    "    KKT = csc_matrix(np.block([\n",
    "        [Hs.toarray(), -As.T.toarray()],\n",
    "        [As.toarray(), np.zeros((m, m))]\n",
    "    ]))\n",
    "    rhs = np.concatenate([-g, b])\n",
    "    lu = splu(KKT)\n",
    "    sol = lu.solve(rhs)\n",
    "    x = sol[:n]\n",
    "    lam = sol[n:]\n",
    "    \n",
    "    end_time = time.time()\n",
    "    end_cpu = measure_cpu_usage(interval=1.0)\n",
    "    \n",
    "    elapsed_time = end_time - start_time\n",
    "    cpu_usage = end_cpu - start_cpu\n",
    "    \n",
    "    return x, lam, elapsed_time, cpu_usage\n",
    "\n",
    "def EqualityQPSolverLDLdense(H, g, A, b):\n",
    "    start_time = time.time()\n",
    "    start_cpu = measure_cpu_usage(interval=1.0)\n",
    "    \n",
    "    n = H.shape[0]\n",
    "    m = A.shape[0]\n",
    "    KKT = np.block([\n",
    "        [H, -A.T],\n",
    "        [A, np.zeros((m, m))]\n",
    "    ])\n",
    "    rhs = np.concatenate([-g, b])\n",
    "    L, D, perm = ldl(KKT)\n",
    "    y = np.linalg.solve(L, rhs[perm])\n",
    "    z = np.linalg.solve(D, y)\n",
    "    sol = np.linalg.solve(L.T, z)\n",
    "    x = sol[:n]\n",
    "    lam = sol[n:]\n",
    "    \n",
    "    end_time = time.time()\n",
    "    end_cpu = measure_cpu_usage(interval=1.0)\n",
    "    \n",
    "    elapsed_time = end_time - start_time\n",
    "    cpu_usage = end_cpu - start_cpu\n",
    "    \n",
    "    return x, lam, elapsed_time, cpu_usage\n",
    "\n",
    "def EqualityQPSolverLDLsparse(H, g, A, b):\n",
    " #doesnt work\n",
    " return ('hallo')\n",
    "\n",
    "def EqualityQPSolverRangeSpace(H, g, A, b):\n",
    "    start_time = time.time()\n",
    "    start_cpu = measure_cpu_usage(interval=1.0)\n",
    "    \n",
    "    # Range space method\n",
    "    At = A.T\n",
    "    S = A @ np.linalg.solve(H, At)\n",
    "    rhs = b + A @ np.linalg.solve(H, g)\n",
    "    lam = np.linalg.solve(S, rhs)\n",
    "    x = -np.linalg.solve(H, g - At @ lam)\n",
    "    \n",
    "    end_time = time.time()\n",
    "    end_cpu = measure_cpu_usage(interval=1.0)\n",
    "    \n",
    "    elapsed_time = end_time - start_time\n",
    "    cpu_usage = end_cpu - start_cpu\n",
    "    \n",
    "    return x, lam, elapsed_time, cpu_usage\n",
    "\n",
    "def EqualityQPSolverNullSpace(H, g, A, b):\n",
    "    start_time = time.time()\n",
    "    start_cpu = measure_cpu_usage(interval=1.0)\n",
    "    \n",
    "    # Null space method\n",
    "    from scipy.linalg import null_space\n",
    "    Z = null_space(A)\n",
    "    x0 = np.linalg.lstsq(A, b, rcond=None)[0]\n",
    "    Hz = Z.T @ H @ Z\n",
    "    gz = Z.T @ (H @ x0 + g)\n",
    "    p = -np.linalg.solve(Hz, gz)\n",
    "    x = x0 + Z @ p\n",
    "    lam = np.linalg.lstsq(A.T, H @ x + g, rcond=None)[0]\n",
    "    \n",
    "    end_time = time.time()\n",
    "    end_cpu = measure_cpu_usage(interval=1.0)\n",
    "    \n",
    "    elapsed_time = end_time - start_time\n",
    "    cpu_usage = end_cpu - start_cpu\n",
    "    \n",
    "    return x, lam, elapsed_time, cpu_usage\n",
    "\n",
    "def EqualityQPSolver(H, g, A, b, solver):\n",
    "    solvers = {\n",
    "        \"LUdense\": EqualityQPSolverLUdense,\n",
    "        \"LUsparse\": EqualityQPSolverLUsparse,\n",
    "        \"LDLdense\": EqualityQPSolverLDLdense,\n",
    "        \"LDLsparse\": EqualityQPSolverLDLsparse,\n",
    "        \"RangeSpace\": EqualityQPSolverRangeSpace,\n",
    "        \"NullSpace\": EqualityQPSolverNullSpace\n",
    "    }\n",
    "    if solver not in solvers:\n",
    "        raise ValueError(f\"Unknown solver: {solver}\")\n",
    "    return solvers[solver](H, g, A, b)\n",
    "\n",
    "def generate_test_problem(n, beta, alpha):\n",
    "    # Generate random matrix M with 15% nonzero elements\n",
    "    M = np.random.randn(n, n)\n",
    "    mask_M = np.random.rand(n, n) > 0.85\n",
    "    M[mask_M] = 0\n",
    "    \n",
    "    # Generate H = M M' + alpha I\n",
    "    H = M @ M.T + alpha * np.eye(n)\n",
    "    \n",
    "    # Generate random vector g\n",
    "    g = np.random.randn(n)\n",
    "    \n",
    "    # Generate matrix A with 15% nonzero elements\n",
    "    m = round(beta * n)\n",
    "    A = np.random.randn(m, n)\n",
    "    mask_A = np.random.rand(m, n) > 0.85\n",
    "    A[mask_A] = 0\n",
    "    \n",
    "    # Generate random vector b\n",
    "    b = np.random.randn(m)\n",
    "    \n",
    "    return H, g, A, b\n",
    "\n",
    "def compute_lagrangian(H, g, A, b, x, lam):\n",
    "    L = 0.5 * x.T @ H @ x + g.T @ x - lam.T @ (A @ x - b)\n",
    "    return L\n",
    "\n",
    "def EqualityQPSolver(H, g, A, b, solver):\n",
    "    solvers = {\n",
    "        \"LUdense\": EqualityQPSolverLUdense,\n",
    "        \"LUsparse\": EqualityQPSolverLUsparse,\n",
    "        \"LDLdense\": EqualityQPSolverLDLdense,\n",
    "        \"LDLsparse\": EqualityQPSolverLDLsparse,\n",
    "        \"RangeSpace\": EqualityQPSolverRangeSpace,\n",
    "        \"NullSpace\": EqualityQPSolverNullSpace\n",
    "    }\n",
    "    if solver not in solvers:\n",
    "        raise ValueError(f\"Unknown solver: {solver}\")\n",
    "    return solvers[solver](H, g, A, b)\n"
   ]
  },
  {
   "cell_type": "code",
   "execution_count": 26,
   "metadata": {},
   "outputs": [],
   "source": [
    "def generate_test_problem(n, beta, alpha):\n",
    "    # Generate random matrix M with 15% nonzero elements\n",
    "    M = np.random.randn(n, n)\n",
    "    mask_M = np.random.rand(n, n) > 0.85\n",
    "    M[mask_M] = 0\n",
    "    \n",
    "    # Generate H = M M' + alpha I\n",
    "    H = M @ M.T + alpha * np.eye(n)\n",
    "    \n",
    "    # Generate random vector g\n",
    "    g = np.random.randn(n)\n",
    "    \n",
    "    # Generate matrix A with 15% nonzero elements\n",
    "    m = round(beta * n)\n",
    "    A = np.random.randn(m, n)\n",
    "    mask_A = np.random.rand(m, n) > 0.85\n",
    "    A[mask_A] = 0\n",
    "    \n",
    "    # Generate random vector b\n",
    "    b = np.random.randn(m)\n",
    "    \n",
    "    return H, g, A, b\n",
    "\n",
    "def compute_lagrangian(H, g, A, b, x, lam):\n",
    "    L = 0.5 * x.T @ H @ x + g.T @ x - lam.T @ (A @ x - b)\n",
    "    return L\n",
    "\n",
    "\n"
   ]
  },
  {
   "cell_type": "code",
   "execution_count": 27,
   "metadata": {},
   "outputs": [],
   "source": [
    "# Parameters\n",
    "n = 100  # Size of x\n",
    "beta = 0.5  # Ratio for size of A\n",
    "alpha = 0.1  # Regularization parameter\n",
    "\n",
    "# Generate test problem\n",
    "H, g, A, b = generate_test_problem(n, beta, alpha)"
   ]
  },
  {
   "cell_type": "code",
   "execution_count": 28,
   "metadata": {},
   "outputs": [],
   "source": [
    "# x, lam, time1, cpu1 = EqualityQPSolver(H, g, A, b, 'LDLsparse')\n",
    "# L = compute_lagrangian(H, g, A, b, x, lam)\n",
    "# L, time1, cpu1 "
   ]
  },
  {
   "cell_type": "code",
   "execution_count": 29,
   "metadata": {},
   "outputs": [
    {
     "data": {
      "text/plain": [
       "(np.float64(25.464013736485082), 1.0047433376312256, -4.0)"
      ]
     },
     "execution_count": 29,
     "metadata": {},
     "output_type": "execute_result"
    }
   ],
   "source": [
    "x, lam, time1, cpu1 = EqualityQPSolver(H, g, A, b, 'LDLdense')\n",
    "L = compute_lagrangian(H, g, A, b, x, lam)\n",
    "L, time1, cpu1 "
   ]
  },
  {
   "cell_type": "code",
   "execution_count": 30,
   "metadata": {},
   "outputs": [
    {
     "data": {
      "text/plain": [
       "(np.float64(26.168487717375417), 1.0038247108459473, 3.4000000000000004)"
      ]
     },
     "execution_count": 30,
     "metadata": {},
     "output_type": "execute_result"
    }
   ],
   "source": [
    "x, lam, time1, cpu1 = EqualityQPSolver(H, g, A, b, 'LUdense')\n",
    "L = compute_lagrangian(H, g, A, b, x, lam)\n",
    "L, time1, cpu1\n",
    "\n"
   ]
  },
  {
   "cell_type": "code",
   "execution_count": 31,
   "metadata": {},
   "outputs": [
    {
     "data": {
      "text/plain": [
       "(np.float64(26.168487717375413), 1.0072195529937744, -1.8999999999999995)"
      ]
     },
     "execution_count": 31,
     "metadata": {},
     "output_type": "execute_result"
    }
   ],
   "source": [
    "x, lam, time1, cpu1 = EqualityQPSolver(H, g, A, b, 'LUsparse')\n",
    "L = compute_lagrangian(H, g, A, b, x, lam)\n",
    "L, time1, cpu1\n"
   ]
  },
  {
   "cell_type": "code",
   "execution_count": 32,
   "metadata": {},
   "outputs": [
    {
     "data": {
      "text/plain": [
       "(np.float64(26.16848771737542), 1.0008697509765625, -8.7)"
      ]
     },
     "execution_count": 32,
     "metadata": {},
     "output_type": "execute_result"
    }
   ],
   "source": [
    "x, lam, time1, cpu1 = EqualityQPSolver(H, g, A, b, 'RangeSpace')\n",
    "L = compute_lagrangian(H, g, A, b, x, lam)\n",
    "L, time1, cpu1"
   ]
  },
  {
   "cell_type": "code",
   "execution_count": 33,
   "metadata": {},
   "outputs": [
    {
     "data": {
      "text/plain": [
       "(np.float64(26.16848771737542), 1.0064151287078857, 0.7000000000000002)"
      ]
     },
     "execution_count": 33,
     "metadata": {},
     "output_type": "execute_result"
    }
   ],
   "source": [
    "x, lam, time1, cpu1 = EqualityQPSolver(H, g, A, b, 'NullSpace')\n",
    "L = compute_lagrangian(H, g, A, b, x, lam)\n",
    "L, time1, cpu1"
   ]
  },
  {
   "cell_type": "code",
   "execution_count": null,
   "metadata": {},
   "outputs": [],
   "source": []
  }
 ],
 "metadata": {
  "kernelspec": {
   "display_name": "Python 3",
   "language": "python",
   "name": "python3"
  },
  "language_info": {
   "codemirror_mode": {
    "name": "ipython",
    "version": 3
   },
   "file_extension": ".py",
   "mimetype": "text/x-python",
   "name": "python",
   "nbconvert_exporter": "python",
   "pygments_lexer": "ipython3",
   "version": "3.12.8"
  }
 },
 "nbformat": 4,
 "nbformat_minor": 2
}
